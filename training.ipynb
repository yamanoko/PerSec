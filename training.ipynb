{
 "cells": [
  {
   "cell_type": "code",
   "execution_count": null,
   "metadata": {},
   "outputs": [],
   "source": [
    "import torch\n",
    "\n",
    "from torch.utils.data import DataLoader\n",
    "\n",
    "from Encoder import PerSec\n",
    "from quantizer import GumbelVectorQuantizer\n",
    "from custom_dataset import ContrastiveLearningDataset\n",
    "from contrastive_loss import ContrastiveLoss"
   ]
  },
  {
   "cell_type": "code",
   "execution_count": null,
   "metadata": {},
   "outputs": [],
   "source": [
    "activations = {}\n",
    "def get_activation(name):\n",
    "\tdef hook(model, input, output):\n",
    "\t\tactivations[name] = output.clone()\n",
    "\treturn hook"
   ]
  },
  {
   "cell_type": "code",
   "execution_count": null,
   "metadata": {},
   "outputs": [],
   "source": [
    "torch.manual_seed(0)\n",
    "device = torch.device(\"cuda\" if torch.cuda.is_available() else \"cpu\")\n",
    "\n",
    "PerSec = PerSec().to(device)\n",
    "stroke_quantizer = GumbelVectorQuantizer(extracted_feature_size=64, num_groups=2, num_vectors=256, temperature=0.5).to(device)\n",
    "semantic_quantizer = GumbelVectorQuantizer(extracted_feature_size=512, num_groups=2, num_vectors=256, temperature=0.5).to(device)\n",
    "\n",
    "PerSec.stage1.register_forward_hook(get_activation('stage1'))\n",
    "PerSec.stroke_context_aggregator.register_forward_hook(get_activation('stroke_context_aggregator'))\n",
    "PerSec.stage4.register_forward_hook(get_activation('stage4'))"
   ]
  },
  {
   "cell_type": "code",
   "execution_count": null,
   "metadata": {},
   "outputs": [],
   "source": [
    "random_data = torch.randn(1, 3, 32, 384).to(device)\n",
    "PerSec(random_data)\n",
    "\n",
    "p_low = 0.2\n",
    "p_high = 0.15\n",
    "\n",
    "LOW_LENGTH = activations['stage1'].shape[2] * activations['stage1'].shape[3]\n",
    "HIGH_LENGTH = activations['stage4'].shape[2] * activations['stage4'].shape[3]\n",
    "\n",
    "MASK_NUM_LOW =  LOW_LENGTH * p_low\n",
    "MASK_NUM_HIGH = HIGH_LENGTH * p_high"
   ]
  },
  {
   "cell_type": "code",
   "execution_count": null,
   "metadata": {},
   "outputs": [],
   "source": [
    "IMAGE_DIR = \"data/images\"\n",
    "BATCH_SIZE = 64\n",
    "\n",
    "optimizer = torch.optim.Adam(list(PerSec.parameters()) + list(stroke_quantizer.parameters()) + list(semantic_quantizer.parameters()), lr=1e-3)\n",
    "dataset = ContrastiveLearningDataset(IMAGE_DIR)\n",
    "dataloader = DataLoader(dataset, batch_size=BATCH_SIZE, shuffle=True)\n",
    "contrastive_loss = ContrastiveLoss()"
   ]
  },
  {
   "cell_type": "code",
   "execution_count": null,
   "metadata": {},
   "outputs": [],
   "source": [
    "torch.manual_seed(0)\n",
    "epochs = 100\n",
    "\n",
    "alpha = 0.2\n",
    "beta = 0.1\n",
    "\n",
    "steps = []\n",
    "loss_value = []\n",
    "step_count = 0\n",
    "\n",
    "for epoch in range(epochs):\n",
    "\tfor i, batch in enumerate(dataloader):\n",
    "\t\tbatch = batch.to(device)\n",
    "\t\toptimizer.zero_grad()\n",
    "\n",
    "\t\tmask_low = torch.randint(0, LOW_LENGTH, (BATCH_SIZE, MASK_NUM_LOW), device=device)\n",
    "\t\tmask_high = torch.randint(0, HIGH_LENGTH, (BATCH_SIZE, MASK_NUM_HIGH), device=device)\n",
    "\t\t# semantic context aggregator's output\n",
    "\t\tSECP_activation = PerSec(batch, mask_low, mask_high)\n",
    "\t\t\n",
    "\t\tstroke_context_quantized, stroke_quantizer_entropy = stroke_quantizer(activations[\"stage1\"])\n",
    "\t\tstroke_contrastive_loss = contrastive_loss(activations[\"stroke_context_aggregator\"], stroke_context_quantized, mask_low)\n",
    "\n",
    "\t\tsemantic_context_quantized, semantic_quantizer_entropy = semantic_quantizer(activations[\"stage4\"])\n",
    "\t\tsemantic_contrastive_loss = contrastive_loss(SECP_activation, semantic_context_quantized, mask_high)\n",
    "\n",
    "\t\tloss = stroke_contrastive_loss + alpha * stroke_quantizer_entropy + semantic_contrastive_loss + beta * semantic_quantizer_entropy\n",
    "\t\tif i % 100 == 0:\n",
    "\t\t\tprint(f\"Epoch: {epoch+1}, Batch: {i}, Loss: {loss.item()}\")\n",
    "\t\t\tsteps.append(step_count)\n",
    "\t\t\tloss_value.append(loss.item())\n",
    "\t\t\tstep_count += 100\n",
    "\t\tloss.backward()\n",
    "\t\toptimizer.step()"
   ]
  },
  {
   "cell_type": "code",
   "execution_count": null,
   "metadata": {},
   "outputs": [],
   "source": [
    "from matplotlib import pyplot as plt\n",
    "plt.plot(steps, loss_value, label='Training Loss')"
   ]
  },
  {
   "cell_type": "code",
   "execution_count": null,
   "metadata": {},
   "outputs": [],
   "source": [
    "torch.save(PerSec.state_dict(), \"model/PerSec.pth\")\n",
    "torch.save(stroke_quantizer.state_dict(), \"model/stroke_quantizer.pth\")\n",
    "torch.save(semantic_quantizer.state_dict(), \"model/semantic_quantizer.pth\")"
   ]
  },
  {
   "cell_type": "code",
   "execution_count": null,
   "metadata": {},
   "outputs": [],
   "source": [
    "# Decoder training\n",
    "import torch\n",
    "from torch.utils.data import DataLoader, random_split, ConcatDataset\n",
    "\n",
    "import os\n",
    "import pickle\n",
    "from PIL import Image\n",
    "from torchmetrics.text import CharErrorRate\n",
    "\n",
    "from Encoder import PerSec\n",
    "from Decoder import LSTMAttnDecoder\n",
    "\n",
    "from custom_dataset import DecoderDataset\n",
    "\n",
    "device = torch.device(\"cuda\" if torch.cuda.is_available() else \"cpu\")"
   ]
  },
  {
   "cell_type": "code",
   "execution_count": null,
   "metadata": {},
   "outputs": [],
   "source": [
    "CHAR_TO_TOKEN_FILE = \"char_to_token.pkl\"\n",
    "TOKEN_TO_CHAR_FILE = \"token_to_char.pkl\"\n",
    "\n",
    "with open(CHAR_TO_TOKEN_FILE, \"rb\") as f:\n",
    "\tchar_to_token = pickle.load(f)\n",
    "\n",
    "with open(TOKEN_TO_CHAR_FILE, \"rb\") as f:\n",
    "\ttoken_to_char = pickle.load(f)\n",
    "\n",
    "def tokenizer(text):\n",
    "\treturn [char_to_token[char.item()] for char in text]"
   ]
  },
  {
   "cell_type": "code",
   "execution_count": null,
   "metadata": {},
   "outputs": [],
   "source": [
    "torch.manual_seed(0)\n",
    "PerSec = PerSec().to(device)\n",
    "PerSec.load_state_dict(torch.load(\"model/PerSec.pth\"))\n",
    "Decoder = LSTMAttnDecoder(hidden_size=512, output_size=len(token_to_char)).to(device)"
   ]
  },
  {
   "cell_type": "code",
   "execution_count": null,
   "metadata": {},
   "outputs": [],
   "source": [
    "torch.manual_seed(0)\n",
    "\n",
    "NATURAL_DATASET_FOLDER = \"data/images\"\n",
    "NATURAL_DATASET_CSV = \"data/texts\"\n",
    "GENERATED_DATASET_FOLDER = \"data/generated_images\"\n",
    "GENERATED_DATASET_CSV = \"data/generated_texts\"\n",
    "natural_dataset = DecoderDataset(csv_path=NATURAL_DATASET_CSV, image_dir=NATURAL_DATASET_FOLDER, token_dict=char_to_token)\n",
    "generated_dataset = DecoderDataset(csv_path=GENERATED_DATASET_FOLDER, image_dir=GENERATED_DATASET_FOLDER, token_dict=char_to_token)\n",
    "\n",
    "dataseet = ConcatDataset([natural_dataset, generated_dataset])\n",
    "train_size = int(0.9 * len(dataset))\n",
    "val_size = len(dataset) - train_size\n",
    "train_dataset, val_dataset = random_split(dataset, [train_size, val_size])\n",
    "train_dataloader = DataLoader(train_dataset, batch_size=64, shuffle=True)\n",
    "val_dataloader = DataLoader(val_dataset, batch_size=64, shuffle=False)"
   ]
  },
  {
   "cell_type": "code",
   "execution_count": null,
   "metadata": {},
   "outputs": [],
   "source": [
    "cross_entropy = torch.nn.CrossEntropyLoss()\n",
    "optimizer = torch.optim.Adam(list(PerSec.parameters()) + list(Decoder.parameters()), lr=1e-3)\n",
    "cer = CharErrorRate()"
   ]
  },
  {
   "cell_type": "code",
   "execution_count": null,
   "metadata": {},
   "outputs": [],
   "source": [
    "epochs = 100\n",
    "SOS_token = char_to_token['<SOS>']"
   ]
  }
 ],
 "metadata": {
  "kernelspec": {
   "display_name": "pytorch_bootcamp",
   "language": "python",
   "name": "python3"
  },
  "language_info": {
   "codemirror_mode": {
    "name": "ipython",
    "version": 3
   },
   "file_extension": ".py",
   "mimetype": "text/x-python",
   "name": "python",
   "nbconvert_exporter": "python",
   "pygments_lexer": "ipython3",
   "version": "3.11.7"
  }
 },
 "nbformat": 4,
 "nbformat_minor": 2
}
