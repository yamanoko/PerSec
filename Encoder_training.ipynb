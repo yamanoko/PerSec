{
 "cells": [
  {
   "cell_type": "code",
   "execution_count": null,
   "metadata": {},
   "outputs": [],
   "source": [
    "import torch.utils.data as data\n",
    "from torch.utils.data import DataLoader\n",
    "\n",
    "from Encoder import PerSec\n",
    "from custom_dataset import ContrastiveLearningDataset"
   ]
  }
 ],
 "metadata": {
  "kernelspec": {
   "display_name": "pytorch_bootcamp",
   "language": "python",
   "name": "python3"
  },
  "language_info": {
   "name": "python",
   "version": "3.11.7"
  }
 },
 "nbformat": 4,
 "nbformat_minor": 2
}
